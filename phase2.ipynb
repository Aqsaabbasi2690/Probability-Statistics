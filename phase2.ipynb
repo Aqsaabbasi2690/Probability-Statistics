{
 "cells": [
  {
   "cell_type": "markdown",
   "id": "03c4b4df",
   "metadata": {},
   "source": [
    "## Studying Central Tendency"
   ]
  },
  {
   "cell_type": "code",
   "execution_count": 1,
   "id": "3e2b92e1",
   "metadata": {},
   "outputs": [],
   "source": [
    "import pandas as pd"
   ]
  },
  {
   "cell_type": "code",
   "execution_count": null,
   "id": "c128aa6f",
   "metadata": {},
   "outputs": [],
   "source": [
    "# plt.figure(figsize=(20, 5))\n",
    "\n",
    "# x = range(da['BMXWT'].size)\n",
    "# y = da['BMXWT']\n",
    "\n",
    "# plt.scatter(x, y, marker='x', s=0.5)\n",
    "\n",
    "# plt.title(\"Weights of Individuals\")\n",
    "# plt.xlabel(\"ID of Individual\")\n",
    "# plt.ylabel(\"Weight (kg)\")\n",
    "\n",
    "# # plot the estimate line\n",
    "# p1 = (0, 75)\n",
    "# p2 = (6000, 75)\n",
    "# x_c, y_c = zip(p1, p2)\n",
    "# plt.plot(x_c, y_c, color='red', linewidth=0.75)\n",
    "# plt.show()\n",
    "\n",
    "# wt.mean()\n",
    "\n",
    "# plt.figure(figsize=(20, 5))\n",
    "\n",
    "# x = range(da['BMXWT'].size)\n",
    "# y = da['BMXWT']"
   ]
  },
  {
   "cell_type": "markdown",
   "id": "49bb48a9",
   "metadata": {},
   "source": [
    "## Problem with Arithmetic Mean"
   ]
  },
  {
   "cell_type": "code",
   "execution_count": 3,
   "id": "ab13168c",
   "metadata": {},
   "outputs": [],
   "source": [
    "import numpy as np"
   ]
  },
  {
   "cell_type": "code",
   "execution_count": 4,
   "id": "ee53540f",
   "metadata": {},
   "outputs": [
    {
     "data": {
      "text/plain": [
       "np.float64(30.625)"
      ]
     },
     "execution_count": 4,
     "metadata": {},
     "output_type": "execute_result"
    }
   ],
   "source": [
    "nums = np.array([3, 4, 9, 17, 18, 20, 22, 23, 29, 32, 39, 42, 42, 42, 51, 97])\n",
    "\n",
    "np.mean(nums)\n",
    "\n",
    "# let's try to do a different kind of average: the median!"
   ]
  },
  {
   "cell_type": "code",
   "execution_count": 5,
   "id": "06dc8de0",
   "metadata": {},
   "outputs": [
    {
     "data": {
      "text/plain": [
       "np.float64(26.0)"
      ]
     },
     "execution_count": 5,
     "metadata": {},
     "output_type": "execute_result"
    }
   ],
   "source": [
    "np.median(nums)"
   ]
  },
  {
   "cell_type": "markdown",
   "id": "a98040aa",
   "metadata": {},
   "source": [
    "## Visualizing Weights Data"
   ]
  },
  {
   "cell_type": "markdown",
   "id": "4c84ed75",
   "metadata": {},
   "source": [
    "The problem with our weights data is similar.\n"
   ]
  },
  {
   "cell_type": "markdown",
   "id": "48ddef6f",
   "metadata": {},
   "source": [
    "median are robust to outliers. Robust means outliers and unseen circumstances cannot adversy effect your analysis. \n",
    "\n",
    "three types of average:\n",
    "\n",
    "arithmetic mean\n",
    "mode\n",
    "median"
   ]
  },
  {
   "cell_type": "code",
   "execution_count": null,
   "id": "14032d49",
   "metadata": {},
   "outputs": [],
   "source": [
    "# wt.max()\n",
    "\n",
    "\n",
    "# wt.min()\n",
    "\n",
    "# wt.median()"
   ]
  },
  {
   "cell_type": "code",
   "execution_count": null,
   "id": "98e5a124",
   "metadata": {},
   "outputs": [],
   "source": [
    "# plt.figure(figsize=(20, 5))\n",
    "\n",
    "# x = range(da['BMXWT'].size)\n",
    "# y = da['BMXWT']\n",
    "\n",
    "# plt.scatter(x, y, marker='x', s=0.5)\n",
    "\n",
    "# plt.title(\"Weights of Individuals\")\n",
    "# plt.xlabel(\"ID of Individual\")\n",
    "# plt.ylabel(\"Weight (kg)\")\n",
    "\n",
    "# # plot the estimate line\n",
    "# x_c, y_c = zip((0, wt.median()), (6000, wt.median()))\n",
    "# plt.plot(x_c, y_c, color='red', linewidth=0.75)\n",
    "\n",
    "# # plot the estimate line\n",
    "# x_c, y_c = zip((0, 6000), [wt.mean(), wt.mean()])\n",
    "# plt.plot(x_c, y_c, color='green', linewidth=2)\n",
    "\n",
    "# plt.show()\n"
   ]
  },
  {
   "cell_type": "markdown",
   "id": "859e1595",
   "metadata": {},
   "source": [
    "## Quartiles and Boxplots"
   ]
  },
  {
   "cell_type": "code",
   "execution_count": 7,
   "id": "139c2acc",
   "metadata": {},
   "outputs": [
    {
     "data": {
      "text/plain": [
       "np.float64(26.0)"
      ]
     },
     "execution_count": 7,
     "metadata": {},
     "output_type": "execute_result"
    }
   ],
   "source": [
    "nums = np.array([3, 4, 9, 17, 18, 20, 22, 23, 29, 32, 39, 42, 42, 42, 51, 97])\n",
    "\n",
    "np.median(nums)"
   ]
  },
  {
   "cell_type": "code",
   "execution_count": 10,
   "id": "09fb53bd",
   "metadata": {},
   "outputs": [],
   "source": [
    "import statistics"
   ]
  },
  {
   "cell_type": "code",
   "execution_count": null,
   "id": "865c0836",
   "metadata": {},
   "outputs": [],
   "source": [
    "# statistics.quantile(nums, n=4)\n",
    "\n",
    "# statistics.quantile(wt, n=4)\n",
    "\n",
    "# ax = sns.boxplot(x=wt)\n",
    "\n",
    "# male_wt = da.loc[da['RIAGENDR'] == 2, 'BMXWT']\n",
    "# male_wt         # try .mean()\n",
    "\n",
    "# female_wt = da.loc[da['RIAGENDR'] == 1, 'BMXWT']\n",
    "# female_wt\n",
    "\n",
    "# # But there's an easier way\n",
    "# plt.figure(figsize=(4,8))\n",
    "\n",
    "# ax = sns.boxplot(y = 'BMXWT', x = 'RIAGENDR', data=da)"
   ]
  },
  {
   "cell_type": "code",
   "execution_count": null,
   "id": "9b4b1501",
   "metadata": {},
   "outputs": [],
   "source": [
    "# male_wt = da.loc[da['RIAGENDR'] == 2, 'BMXWT'] \n",
    "# # loc fist createria and second series(column), da is like table\n",
    "# male_wt         # try .mean()\n",
    "\n",
    "# female_wt = da.loc[da['RIAGENDR'] == 1, 'BMXWT']\n",
    "# female_wt\n",
    "\n",
    "# # But there's an easier way\n",
    "# plt.figure(figsize=(4,8))\n",
    "# sns.set_style(\"whitegrid\")\n",
    "\n",
    "# ax = sns.boxplot( x = 'RIAGENDR', y = 'BMXWT',        data=da        , palette=\"Set3\")\n",
    "\n",
    "# # But there's an easier way\n",
    "# plt.figure(figsize=(4,8))\n",
    "# sns.set_style(\"whitegrid\")\n",
    "\n",
    "# ax = sns.boxplot( x = 'RIDRETH1', y = 'BMXWT',        data=da        , palette=\"Set1\")"
   ]
  },
  {
   "cell_type": "markdown",
   "id": "0a2fd33a",
   "metadata": {},
   "source": [
    "## Dispersion"
   ]
  },
  {
   "cell_type": "code",
   "execution_count": 15,
   "id": "2ee39518",
   "metadata": {},
   "outputs": [
    {
     "data": {
      "text/plain": [
       "np.float64(16.0)"
      ]
     },
     "execution_count": 15,
     "metadata": {},
     "output_type": "execute_result"
    }
   ],
   "source": [
    "nums = np.array([14,14,14,14,18,18,18,18])\n",
    "\n",
    "np.median(nums)\n",
    "\n",
    "np.mean(nums)"
   ]
  },
  {
   "cell_type": "code",
   "execution_count": 16,
   "id": "85bb1231",
   "metadata": {},
   "outputs": [],
   "source": [
    "# data collect  and spread is dispersion\n",
    "# different method of dispersion \n",
    "# \"one measure of dispersion is the average distance of all the different data points from means\""
   ]
  },
  {
   "cell_type": "code",
   "execution_count": null,
   "id": "1c92fdc7",
   "metadata": {},
   "outputs": [],
   "source": [
    "\n",
    "# x̄ = (∑ᵢ₌₁ᴺ xᵢ) / N\n",
    "# This shows the mathematical formula for the arithmetic mean (average), where:\n",
    "\n",
    "# x̄ (x-bar) represents the sample mean\n",
    "# ∑ (sigma) indicates summation\n",
    "# xᵢ represents each individual value\n",
    "# N is the total number of values\n",
    "# The formula reads: \"the sum of all x values from i=1 to N, divided by N\"\n",
    "\n"
   ]
  },
  {
   "cell_type": "code",
   "execution_count": null,
   "id": "4439a483",
   "metadata": {},
   "outputs": [],
   "source": [
    "# Formula for Variance:\n",
    "# σ² = (∑ᵢ₌₁ᴺ (xᵢ - x̄)²) / N\n",
    "# Labels:\n",
    "\n",
    "# \"SIGMA\" (pointing to σ²)\n",
    "# \"variance\" (written below)\n",
    "\n",
    "# This shows the mathematical formula for population variance, where:\n",
    "\n",
    "# σ² (sigma squared) represents the variance\n",
    "# ∑ (sigma) indicates summation from i=1 to N\n",
    "# xᵢ represents each individual value\n",
    "# x̄ represents the mean\n",
    "# (xᵢ - x̄)² represents the squared deviation of each value from the mean\n",
    "# N is the total number of values"
   ]
  },
  {
   "cell_type": "markdown",
   "id": "bd0ad5af",
   "metadata": {},
   "source": [
    "GREEK ALPHABET:\n",
    "\n",
    "Αα (ALPHA) - Alpha\n",
    "Ββ (BETA) - Beta\n",
    "Γγ (GAMMA) - Gamma\n",
    "Δδ (DELTA) - Delta\n",
    "Εε (EPSILON) - Epsilon\n",
    "Ζζ (ZETA) - Zeta\n",
    "\n",
    "\n",
    "Ηη (ETA) - Eta\n",
    "Θθ (THETA) - Theta\n",
    "Ιι (IOTA) - Iota\n",
    "Κκ (KAPPA) - Kappa\n",
    "Λλ (LAMBDA) - Lambda\n",
    "Μμ (MU) - Mu\n",
    "\n",
    "\n",
    "Νν (NU) - Nu\n",
    "Ξξ (XI) - Xi\n",
    "Οο (OMICRON) - Omicron\n",
    "Ππ (PI) - Pi\n",
    "Ρρ (RHO) - Rho\n",
    "Σσς (SIGMA) - Sigma\n",
    "\n",
    "\n",
    "Ττ (TAU) - Tau\n",
    "Υυ (UPSILON) - Upsilon\n",
    "Φφ (PHI) - Phi\n",
    "Χχ (CHI) - Chi\n",
    "Ψψ (PSI) - Psi\n",
    "Ωω (OMEGA) - Omega\n",
    "\n",
    "This reference sheet shows both uppercase and lowercase forms of each Greek letter, which are commonly used in mathematics and statistics (like σ for standard deviation, μ for mean, π for pi, etc.)."
   ]
  },
  {
   "cell_type": "markdown",
   "id": "45253f90",
   "metadata": {},
   "source": [
    "Problem:\n",
    "\n",
    "Original data units: m\n",
    "Variance units: m²\n",
    "\n",
    "Solution: Square root!\n",
    "σ = √σ²\n",
    "Standard Deviation:\n",
    "\"Square root of\n",
    "average square distances of values from the mean\".\n",
    "standard deviation tells us \"how far away are values from the mean\" on average. It's a measure of spread or variability in the data.\n",
    "\n",
    "Square distances - Take each data point's distance from the mean and square it\n",
    "Average - Find the average of all these squared distances (this gives you variance)\n",
    "Square root - Take the square root to get back to original units.\n",
    "\n",
    "\n",
    "If your original data is measured in meters (m), the variance will be in square meters (m²)\n",
    "To get back to the original units, you take the square root of the variance\n",
    "This gives you the standard deviation (σ), which is in the same units as the original data (m)"
   ]
  },
  {
   "cell_type": "markdown",
   "id": "455543ba",
   "metadata": {},
   "source": [
    "## Dispersion"
   ]
  },
  {
   "cell_type": "code",
   "execution_count": 18,
   "id": "b75bc0df",
   "metadata": {},
   "outputs": [],
   "source": [
    "import matplotlib\n",
    "import matplotlib.pyplot as plt\n",
    "%matplotlib inline\n",
    "\n",
    "import numpy as np\n",
    "\n"
   ]
  },
  {
   "cell_type": "code",
   "execution_count": null,
   "id": "36d44fac",
   "metadata": {},
   "outputs": [],
   "source": [
    "import seaborn as sns\n",
    "sns.set(color_codes=True)\n",
    "sns.set_style(\"white\")    \n",
    "\n",
    "\n"
   ]
  },
  {
   "cell_type": "code",
   "execution_count": 25,
   "id": "6ff02b33",
   "metadata": {},
   "outputs": [
    {
     "data": {
      "text/plain": [
       "0.12211003677264509"
      ]
     },
     "execution_count": 25,
     "metadata": {},
     "output_type": "execute_result"
    }
   ],
   "source": [
    "np.random.uniform(low=0.0, high=1.0)\n"
   ]
  },
  {
   "cell_type": "code",
   "execution_count": 31,
   "id": "0363e20c",
   "metadata": {},
   "outputs": [
    {
     "data": {
      "text/plain": [
       "array([0.88331569, 0.75137231, 0.62606753, 0.02817271, 0.43068811,\n",
       "       0.35692208, 0.51387397, 0.07789686, 0.96854922, 0.8137533 ])"
      ]
     },
     "execution_count": 31,
     "metadata": {},
     "output_type": "execute_result"
    }
   ],
   "source": [
    "\n",
    "\n",
    "np.random.uniform(low=0.0, high=1.0, size = 10) \n",
    "# .shape tells how much values like there is 10 values\n",
    "# All values equally likely. Sort of like    0.0   0.2   0.4   0.6   0.8   1.0"
   ]
  },
  {
   "cell_type": "markdown",
   "id": "dc1c9279",
   "metadata": {},
   "source": [
    "## Generating a Lot of numbers"
   ]
  },
  {
   "cell_type": "code",
   "execution_count": 32,
   "id": "bd165070",
   "metadata": {},
   "outputs": [],
   "source": [
    "num_samples = 10000  # get rid of 'magic numbers'"
   ]
  },
  {
   "cell_type": "code",
   "execution_count": 33,
   "id": "4d30f647",
   "metadata": {},
   "outputs": [],
   "source": [
    "uniform_vals = np.random.uniform(low=0.0, high=10.0, size = num_samples)"
   ]
  },
  {
   "cell_type": "code",
   "execution_count": 35,
   "id": "2b451068",
   "metadata": {},
   "outputs": [
    {
     "data": {
      "image/png": "[encoded data removed]",
      "text/plain": [
       "<Figure size 640x480 with 1 Axes>"
      ]
     },
     "metadata": {},
     "output_type": "display_data"
    }
   ],
   "source": [
    "sns.histplot(uniform_vals, bins=20, kde=False)\n",
    "plt.ylabel('Frequency')\n",
    "plt.xlabel('Value');\n",
    "plt.title(\"Uniform Values\")\n",
    "sns.despine(offset=10, trim=True);  # move axes away\n",
    "plt.show()\n"
   ]
  },
  {
   "cell_type": "code",
   "execution_count": 38,
   "id": "a8de8760",
   "metadata": {},
   "outputs": [],
   "source": [
    "normal_vals = np.random.normal(loc=5.0, scale=10.0, size = num_samples)\n",
    "# More values closer to 5 ! Sort of like 1 3 5 5 5 5 5 7 9"
   ]
  },
  {
   "cell_type": "code",
   "execution_count": 39,
   "id": "224fa84e",
   "metadata": {},
   "outputs": [
    {
     "data": {
      "image/png": "[encoded data removed]",
      "text/plain": [
       "<Figure size 640x480 with 1 Axes>"
      ]
     },
     "metadata": {},
     "output_type": "display_data"
    }
   ],
   "source": [
    "sns.histplot(normal_vals, bins=20, kde=False)\n",
    "plt.ylabel('Frequency')\n",
    "plt.xlabel('Value');\n",
    "plt.title(\"Normal Values\")\n",
    "sns.despine(offset=10, trim=True);  # move axes away\n",
    "plt.show()"
   ]
  },
  {
   "cell_type": "code",
   "execution_count": 40,
   "id": "fee92d3f",
   "metadata": {},
   "outputs": [
    {
     "name": "stdout",
     "output_type": "stream",
     "text": [
      "Uniform vals mean: 5.036275825293155\n",
      "Normal vals mean:  4.893764491208706\n"
     ]
    }
   ],
   "source": [
    "print(\"Uniform vals mean:\", np.mean(uniform_vals))\n",
    "print(\"Normal vals mean: \", np.mean(normal_vals))"
   ]
  },
  {
   "cell_type": "code",
   "execution_count": 41,
   "id": "e2635992",
   "metadata": {},
   "outputs": [
    {
     "name": "stdout",
     "output_type": "stream",
     "text": [
      "Uniform vals variance: 8.384970461167455\n",
      "Normal vals variance:  98.63843264601486\n"
     ]
    }
   ],
   "source": [
    "print(\"Uniform vals variance:\", np.var(uniform_vals))\n",
    "print(\"Normal vals variance: \", np.var(normal_vals))"
   ]
  },
  {
   "cell_type": "code",
   "execution_count": 42,
   "id": "c74737e2",
   "metadata": {},
   "outputs": [
    {
     "name": "stdout",
     "output_type": "stream",
     "text": [
      "Uniform vals sd:  2.8956813466207665\n",
      "Normal vals sd:  9.931688307937119\n"
     ]
    }
   ],
   "source": [
    "print(\"Uniform vals sd: \", np.std(uniform_vals))\n",
    "print(\"Normal vals sd: \", np.std(normal_vals))"
   ]
  },
  {
   "cell_type": "code",
   "execution_count": 43,
   "id": "aa007bd5",
   "metadata": {},
   "outputs": [],
   "source": [
    "normal_vals = np.random.normal(loc=5.0, scale=10.0, size = num_samples)\n",
    "\n",
    "nv_mean = np.mean(normal_vals)\n",
    "nv_sd = np.std(normal_vals)"
   ]
  },
  {
   "cell_type": "code",
   "execution_count": 53,
   "id": "21901df7",
   "metadata": {},
   "outputs": [
    {
     "data": {
      "image/png": "[encoded data removed]",
      "text/plain": [
       "<Figure size 640x480 with 1 Axes>"
      ]
     },
     "metadata": {},
     "output_type": "display_data"
    }
   ],
   "source": [
    "sns.histplot(normal_vals, bins=20, kde=False)\n",
    "plt.xlim(-60, 60)\n",
    "\n",
    "plt.ylabel('Frequency')\n",
    "plt.xlabel('Value')\n",
    "plt.title(\"Normal Values\")\n",
    "sns.despine(offset=10, trim=True)  # move axes away\n",
    "\n",
    "\n",
    "# plot the SD line\n",
    "x_c, y_c = ([nv_mean, nv_mean], [0, 1500])\n",
    "plt.plot(x_c, y_c, color='green', linewidth=2)\n",
    "\n",
    "x_c, y_c = ([nv_mean + nv_sd, nv_mean + nv_sd], [0, 1500])\n",
    "plt.plot(x_c, y_c, color='red', linewidth=2)\n",
    "\n",
    "x_c, y_c = ([nv_mean - nv_sd, nv_mean - nv_sd], [0, 1500])\n",
    "plt.plot(x_c, y_c, color='red', linewidth=2)\n",
    "plt.show()"
   ]
  },
  {
   "cell_type": "code",
   "execution_count": 49,
   "id": "8dd32e9e",
   "metadata": {},
   "outputs": [],
   "source": [
    "normal_vals_2 = np.random.normal(loc=5.0, scale=15.0, size = num_samples)\n",
    "\n",
    "nv_mean_2 = np.mean(normal_vals_2)\n",
    "nv_sd_2 = np.std(normal_vals_2)"
   ]
  },
  {
   "cell_type": "code",
   "execution_count": 55,
   "id": "b245d653",
   "metadata": {},
   "outputs": [
    {
     "data": {
      "image/png": "[encoded data removed]",
      "text/plain": [
       "<Figure size 640x480 with 1 Axes>"
      ]
     },
     "metadata": {},
     "output_type": "display_data"
    }
   ],
   "source": [
    "sns.histplot(normal_vals_2, bins=20, kde=False)\n",
    "plt.xlim(-60, 60)\n",
    "\n",
    "plt.ylabel('Frequency')\n",
    "plt.xlabel('Value')\n",
    "plt.title(\"Normal Values\")\n",
    "sns.despine(offset=10, trim=True)  # move axes away\n",
    "\n",
    "\n",
    "# plot the SD line\n",
    "x_c, y_c = ([nv_mean_2, nv_mean_2], [0, 1500])\n",
    "plt.plot(x_c, y_c, color='green', linewidth=2)\n",
    "\n",
    "x_c, y_c = ([nv_mean_2 + nv_sd_2, nv_mean_2 + nv_sd_2], [0, 1500])\n",
    "plt.plot(x_c, y_c, color='red', linewidth=2)\n",
    "\n",
    "x_c, y_c = ([nv_mean_2 - nv_sd_2, nv_mean_2 - nv_sd_2], [0, 1500])\n",
    "plt.plot(x_c, y_c, color='red', linewidth=2)\n",
    "plt.show()"
   ]
  },
  {
   "cell_type": "code",
   "execution_count": null,
   "id": "992b5956",
   "metadata": {},
   "outputs": [],
   "source": []
  },
  {
   "cell_type": "code",
   "execution_count": null,
   "id": "d190b59b",
   "metadata": {},
   "outputs": [],
   "source": [
    "\n",
    "\n",
    "\n"
   ]
  },
  {
   "cell_type": "code",
   "execution_count": 24,
   "id": "9d2a1106",
   "metadata": {},
   "outputs": [
    {
     "data": {
      "image/png": "[encoded data removed]",
      "text/plain": [
       "<Figure size 640x480 with 1 Axes>"
      ]
     },
     "metadata": {},
     "output_type": "display_data"
    },
    {
     "data": {
      "image/png": "[encoded data removed]",
      "text/plain": [
       "<Figure size 640x480 with 1 Axes>"
      ]
     },
     "metadata": {},
     "output_type": "display_data"
    }
   ],
   "source": [
    "import numpy as np\n",
    "import matplotlib.pyplot as plt\n",
    "import seaborn as sns\n",
    "\n",
    "num_samples = 1000\n",
    "# Let's put both together\n",
    "normal_vals = np.random.normal(loc=5.0, scale=10.0, size=num_samples)\n",
    "normal_vals_2 = np.random.normal(loc=5.0, scale=15.0, size=num_samples)\n",
    "\n",
    "def plot_dist(vals, label):\n",
    "    nv_mean = np.mean(vals)\n",
    "    nv_sd = np.std(vals)\n",
    "\n",
    "    sns.histplot(vals, bins=20, kde=False)\n",
    "\n",
    "    plt.xlim(-60, 60)\n",
    "\n",
    "    plt.ylabel('Frequency')\n",
    "    plt.xlabel('Value')\n",
    "    plt.title(label)\n",
    "    sns.despine(offset=10, trim=True)  # move axes away\n",
    "\n",
    "    # plot the SD line\n",
    "    x_c, y_c = ([nv_mean, nv_mean], [0, 1500])\n",
    "    plt.plot(x_c, y_c, color='green', linewidth=1)\n",
    "\n",
    "    x_c, y_c = ([nv_mean + nv_sd, nv_mean + nv_sd], [0, 1500])\n",
    "    plt.plot(x_c, y_c, color='red', linewidth=1)\n",
    "\n",
    "    x_c, y_c = ([nv_mean - nv_sd, nv_mean - nv_sd], [0, 1500])\n",
    "    plt.plot(x_c, y_c, color='red', linewidth=1)\n",
    "\n",
    "    plt.show()\n",
    "\n",
    "\n",
    "plot_dist(normal_vals, \"Less Varient\")\n",
    "plot_dist(normal_vals_2, \"More Varient\")\n",
    " \n",
    "\n"
   ]
  },
  {
   "cell_type": "markdown",
   "id": "56844388",
   "metadata": {},
   "source": [
    "## Working with Real World Dataaets"
   ]
  },
  {
   "cell_type": "code",
   "execution_count": 20,
   "id": "5e1b753a",
   "metadata": {},
   "outputs": [],
   "source": [
    "import sklearn"
   ]
  },
  {
   "cell_type": "code",
   "execution_count": 25,
   "id": "2cf5dd05",
   "metadata": {},
   "outputs": [],
   "source": [
    "from sklearn.datasets import fetch_california_housing"
   ]
  },
  {
   "cell_type": "code",
   "execution_count": 26,
   "id": "0be67e74",
   "metadata": {},
   "outputs": [],
   "source": [
    "houses = fetch_california_housing()"
   ]
  },
  {
   "cell_type": "code",
   "execution_count": 27,
   "id": "f0341e12",
   "metadata": {},
   "outputs": [
    {
     "name": "stdout",
     "output_type": "stream",
     "text": [
      ".. _california_housing_dataset:\n",
      "\n",
      "California Housing dataset\n",
      "--------------------------\n",
      "\n",
      "**Data Set Characteristics:**\n",
      "\n",
      ":Number of Instances: 20640\n",
      "\n",
      ":Number of Attributes: 8 numeric, predictive attributes and the target\n",
      "\n",
      ":Attribute Information:\n",
      "    - MedInc        median income in block group\n",
      "    - HouseAge      median house age in block group\n",
      "    - AveRooms      average number of rooms per household\n",
      "    - AveBedrms     average number of bedrooms per household\n",
      "    - Population    block group population\n",
      "    - AveOccup      average number of household members\n",
      "    - Latitude      block group latitude\n",
      "    - Longitude     block group longitude\n",
      "\n",
      ":Missing Attribute Values: None\n",
      "\n",
      "This dataset was obtained from the StatLib repository.\n",
      "https://www.dcc.fc.up.pt/~ltorgo/Regression/cal_housing.html\n",
      "\n",
      "The target variable is the median house value for California districts,\n",
      "expressed in hundreds of thousands of dollars ($100,000).\n",
      "\n",
      "This dataset was derived from the 1990 U.S. census, using one row per census\n",
      "block group. A block group is the smallest geographical unit for which the U.S.\n",
      "Census Bureau publishes sample data (a block group typically has a population\n",
      "of 600 to 3,000 people).\n",
      "\n",
      "A household is a group of people residing within a home. Since the average\n",
      "number of rooms and bedrooms in this dataset are provided per household, these\n",
      "columns may take surprisingly large values for block groups with few households\n",
      "and many empty houses, such as vacation resorts.\n",
      "\n",
      "It can be downloaded/loaded using the\n",
      ":func:`sklearn.datasets.fetch_california_housing` function.\n",
      "\n",
      ".. rubric:: References\n",
      "\n",
      "- Pace, R. Kelley and Ronald Barry, Sparse Spatial Autoregressions,\n",
      "  Statistics and Probability Letters, 33:291-297, 1997.\n",
      "\n"
     ]
    }
   ],
   "source": [
    "print(houses.DESCR)"
   ]
  },
  {
   "cell_type": "code",
   "execution_count": 28,
   "id": "ee333a01",
   "metadata": {},
   "outputs": [
    {
     "data": {
      "text/plain": [
       "['MedInc',\n",
       " 'HouseAge',\n",
       " 'AveRooms',\n",
       " 'AveBedrms',\n",
       " 'Population',\n",
       " 'AveOccup',\n",
       " 'Latitude',\n",
       " 'Longitude']"
      ]
     },
     "execution_count": 28,
     "metadata": {},
     "output_type": "execute_result"
    }
   ],
   "source": [
    "houses.feature_names"
   ]
  },
  {
   "cell_type": "code",
   "execution_count": 30,
   "id": "b18eea02",
   "metadata": {},
   "outputs": [
    {
     "data": {
      "text/plain": [
       "(20640, 8)"
      ]
     },
     "execution_count": 30,
     "metadata": {},
     "output_type": "execute_result"
    }
   ],
   "source": [
    "houses.data.shape"
   ]
  },
  {
   "cell_type": "code",
   "execution_count": 31,
   "id": "95e9dbaa",
   "metadata": {},
   "outputs": [
    {
     "data": {
      "text/plain": [
       "array([   8.3252    ,   41.        ,    6.98412698,    1.02380952,\n",
       "        322.        ,    2.55555556,   37.88      , -122.23      ])"
      ]
     },
     "execution_count": 31,
     "metadata": {},
     "output_type": "execute_result"
    }
   ],
   "source": [
    "houses.data[0]"
   ]
  },
  {
   "cell_type": "code",
   "execution_count": 32,
   "id": "1f70afc3",
   "metadata": {},
   "outputs": [
    {
     "data": {
      "text/plain": [
       "array([[ 8.32520000e+00,  4.10000000e+01,  6.98412698e+00,\n",
       "         1.02380952e+00,  3.22000000e+02,  2.55555556e+00,\n",
       "         3.78800000e+01, -1.22230000e+02],\n",
       "       [ 8.30140000e+00,  2.10000000e+01,  6.23813708e+00,\n",
       "         9.71880492e-01,  2.40100000e+03,  2.10984183e+00,\n",
       "         3.78600000e+01, -1.22220000e+02],\n",
       "       [ 7.25740000e+00,  5.20000000e+01,  8.28813559e+00,\n",
       "         1.07344633e+00,  4.96000000e+02,  2.80225989e+00,\n",
       "         3.78500000e+01, -1.22240000e+02],\n",
       "       [ 5.64310000e+00,  5.20000000e+01,  5.81735160e+00,\n",
       "         1.07305936e+00,  5.58000000e+02,  2.54794521e+00,\n",
       "         3.78500000e+01, -1.22250000e+02],\n",
       "       [ 3.84620000e+00,  5.20000000e+01,  6.28185328e+00,\n",
       "         1.08108108e+00,  5.65000000e+02,  2.18146718e+00,\n",
       "         3.78500000e+01, -1.22250000e+02],\n",
       "       [ 4.03680000e+00,  5.20000000e+01,  4.76165803e+00,\n",
       "         1.10362694e+00,  4.13000000e+02,  2.13989637e+00,\n",
       "         3.78500000e+01, -1.22250000e+02],\n",
       "       [ 3.65910000e+00,  5.20000000e+01,  4.93190661e+00,\n",
       "         9.51361868e-01,  1.09400000e+03,  2.12840467e+00,\n",
       "         3.78400000e+01, -1.22250000e+02],\n",
       "       [ 3.12000000e+00,  5.20000000e+01,  4.79752705e+00,\n",
       "         1.06182380e+00,  1.15700000e+03,  1.78825348e+00,\n",
       "         3.78400000e+01, -1.22250000e+02],\n",
       "       [ 2.08040000e+00,  4.20000000e+01,  4.29411765e+00,\n",
       "         1.11764706e+00,  1.20600000e+03,  2.02689076e+00,\n",
       "         3.78400000e+01, -1.22260000e+02],\n",
       "       [ 3.69120000e+00,  5.20000000e+01,  4.97058824e+00,\n",
       "         9.90196078e-01,  1.55100000e+03,  2.17226891e+00,\n",
       "         3.78400000e+01, -1.22250000e+02]])"
      ]
     },
     "execution_count": 32,
     "metadata": {},
     "output_type": "execute_result"
    }
   ],
   "source": [
    "houses.data[: 10]"
   ]
  },
  {
   "cell_type": "code",
   "execution_count": 33,
   "id": "568fde47",
   "metadata": {},
   "outputs": [
    {
     "data": {
      "text/plain": [
       "[array([   8.3252    ,   41.        ,    6.98412698,    1.02380952,\n",
       "         322.        ,    2.55555556,   37.88      , -122.23      ]),\n",
       " array([ 8.30140000e+00,  2.10000000e+01,  6.23813708e+00,  9.71880492e-01,\n",
       "         2.40100000e+03,  2.10984183e+00,  3.78600000e+01, -1.22220000e+02]),\n",
       " array([   7.2574    ,   52.        ,    8.28813559,    1.07344633,\n",
       "         496.        ,    2.80225989,   37.85      , -122.24      ]),\n",
       " array([   5.6431    ,   52.        ,    5.8173516 ,    1.07305936,\n",
       "         558.        ,    2.54794521,   37.85      , -122.25      ]),\n",
       " array([   3.8462    ,   52.        ,    6.28185328,    1.08108108,\n",
       "         565.        ,    2.18146718,   37.85      , -122.25      ]),\n",
       " array([   4.0368    ,   52.        ,    4.76165803,    1.10362694,\n",
       "         413.        ,    2.13989637,   37.85      , -122.25      ]),\n",
       " array([ 3.65910000e+00,  5.20000000e+01,  4.93190661e+00,  9.51361868e-01,\n",
       "         1.09400000e+03,  2.12840467e+00,  3.78400000e+01, -1.22250000e+02]),\n",
       " array([ 3.12000000e+00,  5.20000000e+01,  4.79752705e+00,  1.06182380e+00,\n",
       "         1.15700000e+03,  1.78825348e+00,  3.78400000e+01, -1.22250000e+02]),\n",
       " array([ 2.08040000e+00,  4.20000000e+01,  4.29411765e+00,  1.11764706e+00,\n",
       "         1.20600000e+03,  2.02689076e+00,  3.78400000e+01, -1.22260000e+02]),\n",
       " array([ 3.69120000e+00,  5.20000000e+01,  4.97058824e+00,  9.90196078e-01,\n",
       "         1.55100000e+03,  2.17226891e+00,  3.78400000e+01, -1.22250000e+02])]"
      ]
     },
     "execution_count": 33,
     "metadata": {},
     "output_type": "execute_result"
    }
   ],
   "source": [
    "[x for x in houses.data[:10]]"
   ]
  },
  {
   "cell_type": "code",
   "execution_count": 35,
   "id": "6f8cd36e",
   "metadata": {},
   "outputs": [
    {
     "name": "stdout",
     "output_type": "stream",
     "text": [
      "[np.float64(8.3252), np.float64(8.3014), np.float64(7.2574), np.float64(5.6431), np.float64(3.8462), np.float64(4.0368), np.float64(3.6591), np.float64(3.12), np.float64(2.0804), np.float64(3.6912)]\n"
     ]
    }
   ],
   "source": [
    "med_incs = [x[0]for x in houses.data[:10]]\n",
    "print(med_incs)"
   ]
  },
  {
   "cell_type": "code",
   "execution_count": 36,
   "id": "89b31f56",
   "metadata": {},
   "outputs": [
    {
     "data": {
      "text/plain": [
       "np.float64(4.99608)"
      ]
     },
     "execution_count": 36,
     "metadata": {},
     "output_type": "execute_result"
    }
   ],
   "source": [
    "np.mean(med_incs)"
   ]
  },
  {
   "cell_type": "code",
   "execution_count": 37,
   "id": "dec1b474",
   "metadata": {},
   "outputs": [
    {
     "data": {
      "text/plain": [
       "np.float64(4.5293918796)"
      ]
     },
     "execution_count": 37,
     "metadata": {},
     "output_type": "execute_result"
    }
   ],
   "source": [
    "np.var(med_incs)"
   ]
  },
  {
   "cell_type": "code",
   "execution_count": 38,
   "id": "6f2dabed",
   "metadata": {},
   "outputs": [
    {
     "data": {
      "image/png": "[encoded data removed]",
      "text/plain": [
       "<Figure size 640x480 with 1 Axes>"
      ]
     },
     "metadata": {},
     "output_type": "display_data"
    }
   ],
   "source": [
    "med_incs = [x[0] for x in houses.data]\n",
    "mean = np.mean(med_incs)\n",
    "sd = np.std(med_incs)\n",
    "\n",
    "sns.histplot(med_incs, bins=20, kde=False)\n",
    "\n",
    "# plt.xlim(-60, 60)\n",
    "\n",
    "plt.ylabel('Frequency')\n",
    "plt.xlabel('Median Income');\n",
    "plt.title(\"Histogram of Median Incomes\")\n",
    "sns.despine(offset=10, trim=True);  # move axes away\n",
    "\n",
    "# plot the SD line\n",
    "x_c, y_c = ([mean, mean], [0, 4000])\n",
    "plt.plot(x_c, y_c, color='green', linewidth=2)\n",
    "\n",
    "x_c, y_c = ([mean + sd, mean + sd], [0, 4000])\n",
    "plt.plot(x_c, y_c, color='red', linewidth=2)\n",
    "\n",
    "x_c, y_c = ([mean - sd, mean - sd], [0, 4000])\n",
    "plt.plot(x_c, y_c, color='red', linewidth=2)\n",
    "\n",
    "plt.show()"
   ]
  }
 ],
 "metadata": {
  "kernelspec": {
   "display_name": "Python 3",
   "language": "python",
   "name": "python3"
  },
  "language_info": {
   "codemirror_mode": {
    "name": "ipython",
    "version": 3
   },
   "file_extension": ".py",
   "mimetype": "text/x-python",
   "name": "python",
   "nbconvert_exporter": "python",
   "pygments_lexer": "ipython3",
   "version": "3.13.3"
  }
 },
 "nbformat": 4,
 "nbformat_minor": 5
}
