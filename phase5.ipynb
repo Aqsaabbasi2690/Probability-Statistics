{
 "cells": [
  {
   "cell_type": "markdown",
   "id": "c5928317",
   "metadata": {},
   "source": [
    "## Conditional Probability"
   ]
  },
  {
   "cell_type": "markdown",
   "id": "1cedfbd8",
   "metadata": {},
   "source": [
    "P(A∣B)= P(A∩B)/P(B)\n",
    "​\n",
    " P(A∣B)!=P(B∣A)\n"
   ]
  },
  {
   "cell_type": "markdown",
   "id": "8d5f8909",
   "metadata": {},
   "source": [
    "P(A∣B)= P(A∩B)/P(B)\n",
    "P(B∣A)= P(A∩B)/P(A)"
   ]
  },
  {
   "cell_type": "markdown",
   "id": "ac4246bb",
   "metadata": {},
   "source": [
    "## Applying Bayes Rule to Spam Detection"
   ]
  },
  {
   "cell_type": "markdown",
   "id": "4ba343ba",
   "metadata": {},
   "source": [
    "for individual word\n",
    "\n",
    "P(Spam|w) = P(w|Spam) P(Spam) / P(w)\n",
    "P(w) \"from dataset.\" \"How frequent is this word?\"\n",
    "\n",
    "P(Spam) = # of spam messages / # of all messages\n",
    "\n",
    "P(w|Spam) = # of times this word appears in spam / # of spam messages\n",
    "\n",
    "P(w) = # of times this word appears / # of total messages.\n",
    "\n",
    "for all word\n",
    "Product notation:\n",
    "P(spam ∣ words)=∏ i=1∣words∣P(spam ∣w i )"
   ]
  },
  {
   "cell_type": "markdown",
   "id": "8e839c99",
   "metadata": {},
   "source": [
    "## Spam Detection using Naive Bayes"
   ]
  },
  {
   "cell_type": "code",
   "execution_count": 2,
   "id": "056ea1dc",
   "metadata": {},
   "outputs": [],
   "source": [
    "import numpy as np"
   ]
  },
  {
   "cell_type": "markdown",
   "id": "ef8815c7",
   "metadata": {},
   "source": [
    "# Collecting the Dataset"
   ]
  },
  {
   "cell_type": "code",
   "execution_count": 3,
   "id": "ccd35eb4",
   "metadata": {},
   "outputs": [],
   "source": [
    "spam = [\n",
    "    \"To use your credit, click the new WAP link in the next years txt message or click here\",\n",
    "    \"Thanks for your subscription to New Ringtone UK your new mobile will be charged £5/month Ple\",\n",
    "    \"As a valued customer, I am pleased to advise you that following recent delivery waiting revi:\",\n",
    "    \"Please call our new customer service representative on\",\n",
    "    \"We are trying to contact you. Last weekends customer draw shows that you won a £1000 prize O\"\n",
    "]"
   ]
  },
  {
   "cell_type": "code",
   "execution_count": 4,
   "id": "8cbb4aae",
   "metadata": {},
   "outputs": [],
   "source": [
    "\n",
    "# leave one sentence from spam for testing our model later\n",
    "spam_test = [\"Customer service announcement. You have a New Years delivery waiting for you. click\"]\n"
   ]
  },
  {
   "cell_type": "code",
   "execution_count": 5,
   "id": "8d3b9eb9",
   "metadata": {},
   "outputs": [],
   "source": [
    "non = [\n",
    "    \"I don't think he goes to usf, he lives around here though\",\n",
    "    \"New car and house for my parents. i have only new job in hand\",\n",
    "    \"Great escape. I fancy the bridge but needs her lager. See you tomorrow\",\n",
    "    \"Tired. I haven't slept well the past few nights.\",\n",
    "    \"Too late. I said i have the website. I didn't i have or dont have the slippers\",\n",
    "    \"I might come by tonight then if my class lets out early\",\n",
    "    \"Jos ask if u wana meet up?\",\n",
    "    \"That would be great. We'll be at the Guild. We can try meeting with the customer on Bristol\"\n",
    "]"
   ]
  },
  {
   "cell_type": "code",
   "execution_count": 6,
   "id": "b76ca67f",
   "metadata": {},
   "outputs": [],
   "source": [
    "# another sentence from non for testing our model\n",
    "non_test_2 = [\"That would be great. We'll be at the Guild. We can try meeting with the customer\"]"
   ]
  },
  {
   "cell_type": "markdown",
   "id": "bb75648d",
   "metadata": {},
   "source": [
    "## Basic Pre Processing"
   ]
  },
  {
   "cell_type": "code",
   "execution_count": null,
   "id": "5cc86ba1",
   "metadata": {},
   "outputs": [],
   "source": [
    "# from gensim.parsing.preprocessing import remove_stopwords\n",
    "# from gensim.parsing.porter import PorterStemmer\n",
    "# from gensim.utils import tokenize"
   ]
  },
  {
   "cell_type": "code",
   "execution_count": null,
   "id": "4a4403ff",
   "metadata": {},
   "outputs": [],
   "source": [
    "# test_sentence = non[4]\n",
    "# # test_sentence = non[5]\n",
    "# # test_sentence = spam[1]\n",
    "\n",
    "# print(test_sentence)\n",
    "\n",
    "# removed_stops = remove_stopwords(test_sentence)\n",
    "# print(removed_stops)\n",
    "\n",
    "# p = PorterStemmer()\n",
    "# stemmed = p.stem(removed_stops)\n",
    "# print(stemmed)\n",
    "\n",
    "# tokens = tokenize(stemmed)\n",
    "# print(list(tokens))"
   ]
  },
  {
   "cell_type": "markdown",
   "id": "38d8ab16",
   "metadata": {},
   "source": [
    "## Create a Dictionary of words"
   ]
  },
  {
   "cell_type": "code",
   "execution_count": null,
   "id": "3c0a8c86",
   "metadata": {},
   "outputs": [],
   "source": [
    "# def tokenize_sentence(sentence):\n",
    "#     p = PorterStemmer()\n",
    "#     removed_stops = remove_stopwords(sentence)\n",
    "#     stemmed = p.stem(removed_stops)\n",
    "#     tokens = tokenize(stemmed)\n",
    "#     return list(tokens)\n",
    "\n",
    "# dictionary = set() # will have unique values only\n",
    "# spams_tokenized = []\n",
    "# nons_tokenized = []\n",
    "\n",
    "# for sentence in spam:\n",
    "#     sentence_tokens = tokenize_sentence(sentence)\n",
    "#     spams_tokenized.append(sentence_tokens)\n",
    "#     dictionary = dictionary.union(sentence_tokens) # add sentence words\n",
    "\n",
    "# for sentence in non:\n",
    "#     sentence_tokens = tokenize_sentence(sentence)\n",
    "#     nons_tokenized.append(sentence_tokens)\n",
    "#     dictionary = dictionary.union(sentence_tokens) # add sentence words\n",
    "\n",
    "# print(\"Tokenized spam: \", spams_tokenized)\n",
    "# print(\"Tokenized non: \", nons_tokenized)\n",
    "# print(\"Dictionary: \", dictionary)"
   ]
  },
  {
   "cell_type": "markdown",
   "id": "50ca52d4",
   "metadata": {},
   "source": [
    "## Basic Stats"
   ]
  },
  {
   "cell_type": "code",
   "execution_count": null,
   "id": "3143148d",
   "metadata": {},
   "outputs": [],
   "source": [
    "# total_word_count = len(dictionary)\n",
    "# total_spam_messages = len(spams_tokenized)\n",
    "# total_all_messages = len(spams_tokenized) + len(nons_tokenized)\n",
    "\n",
    "# print(\"Total Number of words:\", total_word_count)"
   ]
  },
  {
   "cell_type": "code",
   "execution_count": null,
   "id": "a8b78666",
   "metadata": {},
   "outputs": [],
   "source": [
    "# P(spam) ... does not depend on an individual word so let's calculate that separately\n",
    "# p_spam = total_spam_messages / total_all_messages\n",
    "# print(\"P(spam) = \", p_spam)"
   ]
  },
  {
   "cell_type": "code",
   "execution_count": null,
   "id": "ada0e7ac",
   "metadata": {},
   "outputs": [],
   "source": [
    "# Helper function to count occurances\n",
    "# def count_word_in_messages(word, messages):\n",
    "#     total_count = 0\n",
    "#     for msg in messages:\n",
    "#         if word in msg: # notice this ensured uniqueness automatically\n",
    "#             total_count += 1\n",
    "#     return total_count"
   ]
  },
  {
   "cell_type": "markdown",
   "id": "fed4add8",
   "metadata": {},
   "source": [
    "## The Actual Probability Computation"
   ]
  },
  {
   "cell_type": "code",
   "execution_count": null,
   "id": "0ed95e1b",
   "metadata": {},
   "outputs": [],
   "source": [
    "# for test_sentence in spam_test:\n",
    "#     test_sentence = tokenize_sentence(test_sentence)\n",
    "#     print(test_sentence)\n",
    "\n",
    "#     # let's run this for each word separately\n",
    "#     for word in test_sentence:\n",
    "#         print(\"-------------\")\n",
    "#         print(\"Running for word:\", word)\n",
    "\n",
    "        # Find P( w | spam)\n",
    "#         spam_count = count_word_in_messages(word, spams_tokenized)\n",
    "#         p_w_spam = spam_count / total_spam_messages\n",
    "#         print(\"P(w | spam) = \", p_w_spam)\n",
    "\n",
    "#         # Find P( w )\n",
    "#         w_count = count_word_in_messages(word, spams_tokenized)\n",
    "#         w_count += count_word_in_messages(word, nons_tokenized) # This line seems incorrect. It should be total_all_messages instead of nons_tokenized for the second argument to count_word_in_messages. Assuming it means counting the word in ALL messages.\n",
    "#         p_w = w_count / total_all_messages\n",
    "#         print(\"P(w) = \", p_w)\n",
    "#         # Find P( spam | w )\n",
    "# p_spam_w = (p_w_spam * p_spam) / p_w\n",
    "# print(\"P( spam )      = \", p_spam)\n",
    "# print(\"P( spam | w ) = \", p_spam_w)\n",
    "# print(\"**\")\n",
    "# final_prob *= p_spam_w\n",
    "\n",
    "# print(\"P( spam | all_words ) = \", final_prob)"
   ]
  },
  {
   "cell_type": "markdown",
   "id": "14dd2589",
   "metadata": {},
   "source": [
    "## Events and Variables"
   ]
  },
  {
   "cell_type": "markdown",
   "id": "9408c3f4",
   "metadata": {},
   "source": [
    "Assign outcomes of experiments to variables:\n",
    "But why?: This question prompts the user to consider the utility of using variables.\n",
    "\n",
    "Example: 6-side dice rolled:\n",
    "N ∈ N Constraint: 1≤N≤6 sets the constraint or the range of possible values for N for a standard 6-sided die. This means N can only be 1, 2, 3, 4, 5, or 6.\n",
    "\n",
    "Scenario: \"Measure ages of 100 people.\"\n",
    "\n",
    "Frequency Table:\n",
    "A frequency table summarizes the distribution of a dataset by showing the number of times each value or range of values appears. The example table shows \"Weight\" (likely meaning age range or a different category, as the title is \"Measure ages of 100 people\" but the column is \"Weight\") and \"Frequency\".\n",
    "Weight\n",
    "\n",
    "Frequency\n",
    "\n",
    "10  5\n",
    "\n",
    "20  20\n",
    "\n",
    "30  40\n",
    "\n",
    "40  30\n",
    "\n",
    "50  5\n",
    "\n",
    "\n",
    "\n",
    "Total Probability \n",
    "\n",
    "P(B=1)=∑i P(B=1,C=i)\n",
    "\n",
    "This formula means that the probability of event B having an outcome of 1 can be found by summing the joint probabilities of B=1 with all possible outcomes i of another event C, provided that the outcomes of C are mutually exclusive and exhaustive. "
   ]
  },
  {
   "cell_type": "markdown",
   "id": "43992bb3",
   "metadata": {},
   "source": [
    "## Distributions"
   ]
  },
  {
   "cell_type": "code",
   "execution_count": 8,
   "id": "dec443fe",
   "metadata": {},
   "outputs": [],
   "source": [
    "import matplotlib.pyplot as plt\n",
    "%matplotlib inline\n",
    "\n",
    "import seaborn as sns\n",
    "sns.set(color_codes=True)\n",
    "\n",
    "import datetime"
   ]
  },
  {
   "cell_type": "markdown",
   "id": "6e7f7124",
   "metadata": {},
   "source": [
    "## Bernoulli Distribution"
   ]
  },
  {
   "cell_type": "code",
   "execution_count": 9,
   "id": "bfc088e7",
   "metadata": {},
   "outputs": [],
   "source": [
    "from scipy.stats import bernoulli"
   ]
  },
  {
   "cell_type": "code",
   "execution_count": 10,
   "id": "0876f9f7",
   "metadata": {},
   "outputs": [
    {
     "data": {
      "text/plain": [
       "[Text(0.5, 0, 'Bernoulli Distribution'), Text(0, 0.5, 'Frequency')]"
      ]
     },
     "execution_count": 10,
     "metadata": {},
     "output_type": "execute_result"
    },
    {
     "data": {
      "image/png": "[encoded data removed]",
      "text/plain": [
       "<Figure size 640x480 with 1 Axes>"
      ]
     },
     "metadata": {},
     "output_type": "display_data"
    }
   ],
   "source": [
    "data_bern = bernoulli.rvs(size=10000, p=0.6)\n",
    "ax = sns.histplot(data_bern,\n",
    "                  bins=100,\n",
    "                  kde=False, # kde=False is for histplot, not distplot in newer seaborn versions\n",
    "                 )\n",
    "ax.set(xlabel='Bernoulli Distribution', ylabel='Frequency')"
   ]
  },
  {
   "cell_type": "markdown",
   "id": "c9442cfa",
   "metadata": {},
   "source": [
    "## Binomial Distribution"
   ]
  },
  {
   "cell_type": "code",
   "execution_count": 12,
   "id": "838059ec",
   "metadata": {},
   "outputs": [
    {
     "name": "stdout",
     "output_type": "stream",
     "text": [
      "[ 6  1  5  6  7  5  3  5  7  5  5  3  5  3  6  4 10  6  8  6  6  6  6  5\n",
      "  4  6  3  6  6  4  5  7  6  5  7  7 10  5  5  3  5  5  3  5  2  7  7  5\n",
      "  7  3  7  5  6  4  3  3  7  1  6  5  7  6  5  6  5  4  4  5  5  8  5  5\n",
      "  4  7  3  7  6  7  5  4  4  5  6  4  5  4  6  4  2  7  5  6  5  5  4  4\n",
      "  3  6  5  5  5  1  4  2  5  5  3  8  6  7  6  6  6  5  6  4  7  6  5  6\n",
      "  6  5  6  1  6  3  5  6  7  2  5  7  5  5  5  2  4  2  1  9  9  4  3  4\n",
      "  4  6  5  1  3  8  5  6  5  5  4  5  3  7  5  3  6  8  5  4  5  5  3  7\n",
      "  2  7  3  6  5  5  3  6  2  6  8  5  6  4  4  7  5  4  3  3  2  5  4  2\n",
      "  7  6  8  5  5  4  9  3  8  5  4  4  8  6  7  6  6  5  3  3  3  3  4  7\n",
      "  5  2  3  6  5  3  7  6  7  2  0  3  5  7  3  7  7  6  3  5  4  2  6  4\n",
      "  5  4  4  4  4  4  6  8  3  6  5  1  4  5  6  4  5  6  6  2  4  4  5  6\n",
      "  6  3  5  5  6  3  1  6  8  6  4  5  6  3  0  4  6  5  4  2  7  3  4  6\n",
      "  5  6  6  8  7  5  7  6  4  8  6  4  4  5  7  4  7  4  5  5  5  3  7  3\n",
      "  2  6  4  7  5  7  5  4  6  4  7  5  4  8  4  4  7  4  6  5  5  5  6  4\n",
      "  3  3  4  5  4  3  6  3  3  6  3  1  5  4  7  7  6  7  4  5  6  7  2  6\n",
      "  4  7  7  4  5  3  6  7  5  6  6  5  4  7  7  7  6  5  7  6  3  7  3  7\n",
      "  5  5  3  3  6  7  7  5  4  6  7  6  6  5  4  4  7  6  5  6  6  5  7  2\n",
      "  4  3  8  5  3  6  5  7  3  5  4  5  4  8  5  5  5  4  5  6  8  7  8  8\n",
      "  4  7  3  2  4  4  8  7  6  4  6  9  5  4  6  2  4  3  4  5  5  7  5  5\n",
      "  5  6  8  5  4  3  3  5  5  7  5  5  4  6  7  3  6  6  9  5  5  7  8  6\n",
      "  5  3  4  4  3  4  5  5  6  4  7  5  5  5  4  7  5  6  5  6  4  6  4  7\n",
      "  4  5  2  3  5 10  4  8  3  4  5  5  4  6  7  4  6  2  6  4  7  3  3  3\n",
      "  7  3  2  4  2  2  6  5  6  4  7  8  4  5  7  5  5  4  7  2  5  7  3  7\n",
      "  3  7  6  5  4  4  5  4  5  4  5  2  6  6  4  4  6  4  8  5  4  6  4  5\n",
      "  6  6  2  5  6  5  5  7  5  5  7  5  6  3  6  3  5  3  5  6  4  5  7  5\n",
      "  3  5  5  7  6  6  6  4  6  2  4  3  2  5  7  6  7  6  2  5  5  4  4  6\n",
      "  4  6  8  7  6  6  1  6  4  4  6  2  5  2  2  3  2 10  3  2  3  3  4  4\n",
      "  5  6  4  6  3  6  1  4  6  5  5  4  7  6  4  5  4  3  7  5  6  6  5  5\n",
      "  6  2  3  3  3  3  5  6  4  3  4  8  5  4  4  4  5  6  3  5  4  2  8  6\n",
      "  7  5  4  5  6  3  5  5  6  6  7  6  5  7  6  4  6  5  6  6  5  3  4  5\n",
      "  3  4  5  5  6  7  5  4  5  5  5  7  5  3  3  6  5  4  6  2  3  6  7  6\n",
      "  5  8  1  2  2  9  8  8  4  6  7  3  2  3  4  4  5  6  8  3  6  4  7  6\n",
      "  5  5  8  3  8  7  3  6  6  7  5  5  2  5  5  5  2  1  3  5  7  4  8  7\n",
      "  6  4  4  5  6  6  4  3  5  4  3  5  4  3  5  1  3  5  7  6  4  5  7  4\n",
      "  9  3  5  4  2  4  5  3  6  5  2  2  4  5  6  8  4  7  4  4  5  7  7  4\n",
      "  5  5  5  5  3  3  5  6  2  5  8  6  5  5  9  5  2  4  4  5  6  6  4  5\n",
      "  4  7  7  4  5  4  5  2  4  4  6  7  4  6  4  5  3  6  5  8  2  3  4  4\n",
      "  6  3  6  5  4  5  6  4  4  6  3  6  7  4  4  5  5  7  5  6  3  4  3  8\n",
      "  6  5  5  4  8  7  1  7  7  6  5  5  4  7  4  5  8  8  5  7  3  3  4  7\n",
      "  6  4  3  3  4  5  3  4  4  3  6  4  7  7  5  8  6  5  7  5  7  5  4  6\n",
      "  5  3  6  7  4  5  6  6  5  6  4  4  6  6  3  6  4  4  9  3  2  7  7  2\n",
      "  5  5  4  4  4  6  8  3  5  5  3  3  4  6  2  4]\n"
     ]
    },
    {
     "data": {
      "image/png": "[encoded data removed]",
      "text/plain": [
       "<Figure size 640x480 with 1 Axes>"
      ]
     },
     "metadata": {},
     "output_type": "display_data"
    }
   ],
   "source": [
    "from scipy.stats import binom\n",
    "\n",
    "data_binom = binom.rvs(n=10, p=0.5, size=1000)\n",
    "ax = sns.histplot(data_binom, # distplot is deprecated for just histogram. histplot is preferred.\n",
    "                  bins=100,\n",
    "                  kde=False,\n",
    "                 )\n",
    "ax.set(xlabel='Binomial Distribution', ylabel='Frequency')\n",
    "print(data_binom)"
   ]
  },
  {
   "cell_type": "markdown",
   "id": "d230502d",
   "metadata": {},
   "source": [
    "##  Poisson Distribution"
   ]
  },
  {
   "cell_type": "code",
   "execution_count": 13,
   "id": "16a9b7b8",
   "metadata": {},
   "outputs": [],
   "source": [
    "from scipy.stats import poisson"
   ]
  },
  {
   "cell_type": "code",
   "execution_count": 14,
   "id": "30ea66d2",
   "metadata": {},
   "outputs": [
    {
     "data": {
      "text/plain": [
       "[Text(0.5, 0, 'Poisson Distribution'), Text(0, 0.5, 'Frequency')]"
      ]
     },
     "execution_count": 14,
     "metadata": {},
     "output_type": "execute_result"
    },
    {
     "data": {
      "image/png": "[encoded data removed]",
      "text/plain": [
       "<Figure size 640x480 with 1 Axes>"
      ]
     },
     "metadata": {},
     "output_type": "display_data"
    }
   ],
   "source": [
    "data_poisson = poisson.rvs(mu=3, size=10000)\n",
    "ax = sns.histplot(data_poisson,  # Using histplot as distplot is deprecated for just histograms\n",
    "                  bins=50,\n",
    "                  kde=False,\n",
    "                 )\n",
    "ax.set(xlabel='Poisson Distribution', ylabel='Frequency')"
   ]
  }
 ],
 "metadata": {
  "kernelspec": {
   "display_name": "Python 3",
   "language": "python",
   "name": "python3"
  },
  "language_info": {
   "codemirror_mode": {
    "name": "ipython",
    "version": 3
   },
   "file_extension": ".py",
   "mimetype": "text/x-python",
   "name": "python",
   "nbconvert_exporter": "python",
   "pygments_lexer": "ipython3",
   "version": "3.13.3"
  }
 },
 "nbformat": 4,
 "nbformat_minor": 5
}
